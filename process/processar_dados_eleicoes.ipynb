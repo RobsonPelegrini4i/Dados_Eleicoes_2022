{
 "cells": [
  {
   "cell_type": "code",
   "execution_count": 25,
   "metadata": {},
   "outputs": [],
   "source": [
    "from pyspark import SparkContext, SparkConf\n",
    "from pyspark.sql import SparkSession\n",
    "from pyspark.sql.functions import explode, col, input_file_name,split\n",
    "from urllib.request import urlopen\n",
    "from pyspark.sql.types import StructType, StructField, StringType, IntegerType, DoubleType, ArrayType\n",
    "from pyspark.sql import functions as F"
   ]
  },
  {
   "cell_type": "code",
   "execution_count": 26,
   "metadata": {},
   "outputs": [],
   "source": [
    "conf = SparkConf()\\\n",
    "        .setAppName('appEleicao')\\\n",
    "        .setMaster('local[2]')\n",
    "        \n",
    "sc = SparkContext.getOrCreate(conf=conf);\n",
    "spark = SparkSession(sc)"
   ]
  },
  {
   "cell_type": "code",
   "execution_count": 27,
   "metadata": {},
   "outputs": [],
   "source": [
    "\n",
    "eleicao_schema = StructType(fields=[\n",
    "    StructField('ele', StringType(), False),\n",
    "    StructField('dg', StringType(), True),\n",
    "    StructField('hg', StringType(), True), \n",
    "    StructField('nadf', StringType(), True),  \n",
    "    StructField(\n",
    "        'abr', ArrayType(\n",
    "            StructType([\n",
    "                StructField('dt', StringType(), False),\n",
    "                StructField('ht', StringType(), True),\n",
    "                StructField('tpabr', StringType(), True),\n",
    "                StructField('cdabr', StringType(), True),\n",
    "                StructField(\n",
    "                    'cand', ArrayType(\n",
    "                        StructType([\n",
    "                            StructField('seq', StringType(), False),\n",
    "                            StructField('n', StringType(), False),\n",
    "                            StructField('vap', StringType(), False), \n",
    "                            StructField('e', StringType(), False),\n",
    "                            StructField('st', StringType(), False),\n",
    "                        ])\n",
    "                    )\n",
    "                )\n",
    "            ])\n",
    "        )\n",
    "    )\n",
    "])"
   ]
  },
  {
   "cell_type": "code",
   "execution_count": 28,
   "metadata": {},
   "outputs": [],
   "source": [
    "#Lendo os dados das eleicoes\n",
    "eleicoes_bruto = spark.read.option(\"multiline\",\"true\")\\\n",
    "                .json(r\"..\\eleicoes_2022\\*\\data\\resultado\\presidente\\*.json\", schema=eleicao_schema)\\\n",
    "                .withColumn('filepath', input_file_name())"
   ]
  },
  {
   "cell_type": "code",
   "execution_count": 29,
   "metadata": {},
   "outputs": [],
   "source": [
    "df_muncipios = spark.read.option(\"header\",\"true\").csv(r\"..\\eleicoes_2022\\*\\data\\municipios\\*.csv\")"
   ]
  },
  {
   "cell_type": "code",
   "execution_count": 30,
   "metadata": {},
   "outputs": [],
   "source": [
    "eleicoes_explode_abr = eleicoes_bruto\\\n",
    "                    .select(\"ele\", \"dg\", \"hg\", \"nadf\", \"filepath\" , explode(\"abr\").alias(\"abrExplode\"))\\\n",
    "                    .select(\"ele\", \"dg\", \"hg\", \"nadf\", \"filepath\", \"abrExplode.*\")\n",
    "\n",
    "#eleicoes_explode_abr.show()"
   ]
  },
  {
   "cell_type": "code",
   "execution_count": 31,
   "metadata": {},
   "outputs": [],
   "source": [
    "eleicoes_explode_cand = eleicoes_explode_abr\\\n",
    "                    .select(\"ele\", \"dg\", \"hg\", \"nadf\", \"dt\", \"ht\", \"tpabr\", \"cdabr\", \"filepath\", explode(\"cand\").alias(\"candExplode\"))\\\n",
    "                    .select(\"ele\", \"dg\", \"hg\", \"nadf\", \"dt\", \"ht\", \"tpabr\", \"cdabr\", \"filepath\", \"candExplode.*\")\n",
    "\n",
    "#eleicoes_explode_cand.show()"
   ]
  },
  {
   "cell_type": "code",
   "execution_count": 32,
   "metadata": {},
   "outputs": [],
   "source": [
    "df_eleicoes = eleicoes_explode_cand.filter(\"tpabr = 'ZONA'\")"
   ]
  },
  {
   "cell_type": "code",
   "execution_count": 33,
   "metadata": {},
   "outputs": [
    {
     "name": "stderr",
     "output_type": "stream",
     "text": [
      "C:\\Softs\\spark-3.3.0\\python\\pyspark\\sql\\column.py:419: FutureWarning: A column as 'key' in getItem is deprecated as of Spark 3.0, and will not be supported in the future release. Use `column[key]` or `column.key` syntax instead.\n",
      "  warnings.warn(\n"
     ]
    }
   ],
   "source": [
    "df_eleicoes = df_eleicoes.withColumn(\"split_filepath\", split(df_eleicoes[\"filepath\"], \"/\"))\n",
    "\n",
    "df_eleicoes = df_eleicoes.withColumn('filename', df_eleicoes[\"split_filepath\"]\\\n",
    "                         .getItem(F.size(df_eleicoes[\"split_filepath\"]) - 1))\\\n",
    "                         .drop(\"split_filepath\", \"filepath\")\n",
    "\n",
    "df_eleicoes = df_eleicoes.withColumn('cod_mun', df_eleicoes[\"filename\"].substr(3, 5))\n"
   ]
  },
  {
   "cell_type": "code",
   "execution_count": 34,
   "metadata": {},
   "outputs": [],
   "source": [
    "df_eleicoes = df_eleicoes.join(df_muncipios,on=(df_eleicoes[\"cod_mun\"] == df_muncipios[\"abr_cd\"]),how=\"inner\")\\\n",
    "                         .drop(\"abr_cd\", \"abr_cdi\",\"abr_c\", \"abr_z\",\"url\")\n"
   ]
  },
  {
   "cell_type": "code",
   "execution_count": 37,
   "metadata": {},
   "outputs": [],
   "source": [
    "df_eleicoes.coalesce(1)\\\n",
    "                   .write\\\n",
    "                   .format(\"parquet\")\\\n",
    "                   .mode(\"overwrite\")\\\n",
    "                   .save(path=r\"resultado\") "
   ]
  }
 ],
 "metadata": {
  "kernelspec": {
   "display_name": "Python 3.10.7 64-bit",
   "language": "python",
   "name": "python3"
  },
  "language_info": {
   "codemirror_mode": {
    "name": "ipython",
    "version": 3
   },
   "file_extension": ".py",
   "mimetype": "text/x-python",
   "name": "python",
   "nbconvert_exporter": "python",
   "pygments_lexer": "ipython3",
   "version": "3.10.7"
  },
  "orig_nbformat": 4,
  "vscode": {
   "interpreter": {
    "hash": "369f2c481f4da34e4445cda3fffd2e751bd1c4d706f27375911949ba6bb62e1c"
   }
  }
 },
 "nbformat": 4,
 "nbformat_minor": 2
}
